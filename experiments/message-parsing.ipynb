{
 "cells": [
  {
   "cell_type": "code",
   "execution_count": null,
   "id": "a8294d55",
   "metadata": {},
   "outputs": [],
   "source": [
    "import json\n",
    "import os\n",
    "from collections import defaultdict\n",
    "\n",
    "messages = []\n",
    "print(os.getcwd())\n",
    "with open(\"../messages.json\") as f:\n",
    "    for line in f:\n",
    "        messages.append(json.loads(line))"
   ]
  },
  {
   "cell_type": "code",
   "execution_count": null,
   "id": "9fed1702",
   "metadata": {},
   "outputs": [],
   "source": [
    "scenes = defaultdict(dict)\n",
    "\n",
    "for message in messages:\n",
    "    scenes[message[\"scene_id\"]][\"video_end_time\"] = max(\n",
    "        scenes[message[\"scene_id\"]].get(\"video_end_time\", -10000),\n",
    "        message[\"video_end_time\"],\n",
    "    )\n",
    "    scenes[message[\"scene_id\"]][\"video_start_time\"] = min(\n",
    "        scenes[message[\"scene_id\"]].get(\"video_start_time\", 10000),\n",
    "        message[\"video_start_time\"],\n",
    "    )\n",
    "\n",
    "all_scenes = []\n",
    "for scene_ids, times in scenes.items():\n",
    "    all_scenes.append(\n",
    "        {\n",
    "            \"scene_id\": scene_ids,\n",
    "            \"video_start_time\": times[\"video_start_time\"],\n",
    "            \"video_end_time\": times[\"video_end_time\"],\n",
    "        }\n",
    "    )\n",
    "\n",
    "\n",
    "sorted_scenes = sorted(all_scenes, key=lambda x: x[\"video_start_time\"])"
   ]
  },
  {
   "cell_type": "code",
   "execution_count": null,
   "id": "d0d71a81",
   "metadata": {},
   "outputs": [],
   "source": [
    "import time\n",
    "\n",
    "\n",
    "def decimal_time_to_time(decimal_time):\n",
    "    return time.strftime(\"%H:%M:%S\", time.gmtime(decimal_time))\n",
    "\n",
    "\n",
    "for scene in sorted_scenes:\n",
    "    start_time = scene[\"video_start_time\"]\n",
    "    end_time = scene[\"video_end_time\"]\n",
    "    print(f\"{scene['scene_id']} {start_time:2.2f} {end_time:2.2f}\")"
   ]
  },
  {
   "cell_type": "code",
   "execution_count": null,
   "id": "ffc56c5f",
   "metadata": {},
   "outputs": [],
   "source": []
  }
 ],
 "metadata": {
  "kernelspec": {
   "display_name": ".venv",
   "language": "python",
   "name": "python3"
  },
  "language_info": {
   "codemirror_mode": {
    "name": "ipython",
    "version": 3
   },
   "file_extension": ".py",
   "mimetype": "text/x-python",
   "name": "python",
   "nbconvert_exporter": "python",
   "pygments_lexer": "ipython3",
   "version": "3.11.10"
  }
 },
 "nbformat": 4,
 "nbformat_minor": 5
}
